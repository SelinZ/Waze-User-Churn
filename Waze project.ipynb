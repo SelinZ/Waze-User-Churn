{
  "metadata": {
    "kernelspec": {
      "name": "python",
      "display_name": "Python (Pyodide)",
      "language": "python"
    },
    "language_info": {
      "codemirror_mode": {
        "name": "ipython",
        "version": 3
      },
      "file_extension": ".py",
      "mimetype": "text/x-python",
      "name": "python",
      "nbconvert_exporter": "python",
      "pygments_lexer": "ipython3",
      "version": "3.7.6"
    },
    "colab": {
      "provenance": [
        {
          "file_id": "1SoZM3Yq8C8BdYu-st3_BAlhze2_Z6Ilb",
          "timestamp": 1671052060798
        },
        {
          "file_id": "1U6q6WFOo7_Ka_C9cdq49KwAsI_lFX86-",
          "timestamp": 1668698832849
        },
        {
          "file_id": "1h6rKqbyzegmvnh5T6X1MhTFOXE6VUciq",
          "timestamp": 1666209449412
        },
        {
          "file_id": "1Vz66UR_ImIhJ4HEkCzdY_9E9QLKiboV1",
          "timestamp": 1663780048645
        }
      ],
      "toc_visible": true
    }
  },
  "nbformat_minor": 4,
  "nbformat": 4,
  "cells": [
    {
      "cell_type": "markdown",
      "source": "# **Waze Project**",
      "metadata": {
        "id": "DtNBZFHO3M7n"
      }
    },
    {
      "cell_type": "markdown",
      "source": "Your Waze data analytics team is still in the early stages of their user churn project. Previously, you were asked to complete a project proposal by your supervisor, May Santner. You have received notice that your project proposal has been approved and that your team has been given access to Waze's user data. To get clear insights, the user data must be inspected and prepared for the upcoming process of exploratory data analysis (EDA).",
      "metadata": {
        "id": "zJCatj3xzrQZ"
      }
    },
    {
      "cell_type": "markdown",
      "source": "# **Inspect and analyze data**\n\nIn this activity, you will examine data provided and prepare it for analysis. This activity will help ensure the information is,\n\n1.   Ready to answer questions and yield insights\n\n2.   Ready for visualizations\n\n3.   Ready for future hypothesis testing and statistical methods\n<br/>\n\n**The purpose** of this project is to investigate and understand the data provided.\n\n**The goal** is to use a dataframe contructed within Python, perform a cursory inspection of the provided dataset, and inform team members of your findings.\n<br/>\n\n*This activity has three parts:*\n\n**Part 1:** Understand the situation\n* How can you best prepare to understand and organize the provided information?\n\n**Part 2:** Understand the data\n\n* Create a pandas dataframe for data learning, future exploratory data analysis (EDA), and statistical activities\n\n* Compile summary information about the data to inform next steps\n\n**Part 3:** Understand the variables\n\n* Use insights from your examination of the summary data to guide deeper investigation into variables\n",
      "metadata": {
        "id": "rgSbVJvomcVa"
      }
    },
    {
      "cell_type": "markdown",
      "source": "# **Identify data types and compile summary information**\n",
      "metadata": {
        "id": "HjFGokxv2pc5"
      }
    },
    {
      "cell_type": "markdown",
      "source": "### **Task 1. Understand the situation**\n\n*   How can you best prepare to understand and organize the provided driver data?\n\n\n*Begin by exploring your dataset and consider reviewing the Data Dictionary.*",
      "metadata": {
        "id": "pWEfG5zJV5oG"
      }
    },
    {
      "cell_type": "markdown",
      "source": "### **Task 2a. Imports and data loading**\n\n\n\n\n\n\n\n\n\n\n\n\n\n\n",
      "metadata": {
        "id": "L6KgK-M8o3we"
      }
    },
    {
      "cell_type": "markdown",
      "source": "\nStart by importing the packages that you will need to load and explore the dataset. Make sure to use the following import statements:\n\n*   `import pandas as pd`\n\n*   `import numpy as np`",
      "metadata": {
        "id": "D4WK_AxP_S__"
      }
    },
    {
      "cell_type": "code",
      "source": "# Import packages for data manipulation\nimport pandas as pd\nimport numpy as np",
      "metadata": {
        "id": "OZSXM4q5zrQh"
      },
      "outputs": [],
      "execution_count": null
    },
    {
      "cell_type": "code",
      "source": "# Load dataset into dataframe\ndf = pd.read_csv('waze_dataset.csv')",
      "metadata": {
        "id": "j_6A58jmUcUe"
      },
      "outputs": [],
      "execution_count": null
    },
    {
      "cell_type": "markdown",
      "source": "### **Task 2b. Summary information**\n\nView and inspect summary information about the dataframe by **coding the following:**\n\n1.   df.head(10)\n2.   df.info()\n\n*Consider the following questions:*\n\n1. When reviewing the `df.head()` output, are there any variables that have missing values?\n\n2. When reviewing the `df.info()` output, what are the data types? How many rows and columns do you have?\n\n3. Does the dataset have any missing values?",
      "metadata": {
        "id": "gYx1emvno7U_"
      }
    },
    {
      "cell_type": "code",
      "source": "df.head(10)",
      "metadata": {
        "colab": {
          "base_uri": "https://localhost:8080/",
          "height": 427
        },
        "executionInfo": {
          "elapsed": 221,
          "status": "ok",
          "timestamp": 1685034750874,
          "user": {
            "displayName": "Matteo Riotto",
            "userId": "15211004813978485634"
          },
          "user_tz": 420
        },
        "id": "t7Nck2hh4R6J",
        "outputId": "49c0d9f1-cb94-4c98-e9a4-bd6bae6db277"
      },
      "outputs": [],
      "execution_count": null
    },
    {
      "cell_type": "code",
      "source": "df.info()",
      "metadata": {
        "colab": {
          "base_uri": "https://localhost:8080/"
        },
        "executionInfo": {
          "elapsed": 209,
          "status": "ok",
          "timestamp": 1685034752874,
          "user": {
            "displayName": "Matteo Riotto",
            "userId": "15211004813978485634"
          },
          "user_tz": 420
        },
        "id": "3NctoTSAvGGD",
        "outputId": "36111198-602a-4573-8534-360300c68110"
      },
      "outputs": [],
      "execution_count": null
    },
    {
      "cell_type": "markdown",
      "source": "1. None of the variables in the first 10 observations have missing values. Note that this does not imply the whole dataset does not have any missing values.\n\n2. The variables `label` and `device` are of type `object`; `total_sessions`, `driven_km_drives`, and `duration_minutes_drives` are of type `float64`; the rest of the variables are of type `int64`. There are 14,999 rows and 13 columns.\n\n3. The dataset has 700 missing values in the `label` column.",
      "metadata": {
        "id": "2OzRDedlZGxc"
      }
    },
    {
      "cell_type": "markdown",
      "source": "### **Task 2c. Null values and summary statistics**\n\nCompare the summary statistics of the 700 rows that are missing labels with summary statistics of the rows that are not missing any values.\n\n**Question:** Is there a discernible difference between the two populations?",
      "metadata": {
        "id": "_eiKigmb3cDh"
      }
    },
    {
      "cell_type": "code",
      "source": "# Isolate rows with null values\nnull_df = df[df['label'].isnull()]\n# Display summary stats of rows with null values\nnull_df.describe()",
      "metadata": {
        "colab": {
          "base_uri": "https://localhost:8080/",
          "height": 364
        },
        "executionInfo": {
          "elapsed": 7,
          "status": "ok",
          "timestamp": 1685036668953,
          "user": {
            "displayName": "Matteo Riotto",
            "userId": "15211004813978485634"
          },
          "user_tz": 420
        },
        "id": "23pMaTd-8bqj",
        "outputId": "3c399498-4a5f-4303-e5d7-9a844e2debb0"
      },
      "outputs": [],
      "execution_count": null
    },
    {
      "cell_type": "code",
      "source": "# Isolate rows without null values\nnot_null_df = df[~df['label'].isnull()]\n# Display summary stats of rows without null values\nnot_null_df.describe()",
      "metadata": {
        "colab": {
          "base_uri": "https://localhost:8080/",
          "height": 364
        },
        "executionInfo": {
          "elapsed": 289,
          "status": "ok",
          "timestamp": 1685051143608,
          "user": {
            "displayName": "Matteo Riotto",
            "userId": "15211004813978485634"
          },
          "user_tz": 420
        },
        "id": "R6QluAEc8bpL",
        "outputId": "2cf59e3e-f169-4093-d82d-499e7d2faa51"
      },
      "outputs": [],
      "execution_count": null
    },
    {
      "cell_type": "markdown",
      "source": "Comparing summary statistics of the observations with missing retention labels with those that aren't missing any values reveals nothing remarkable. The means and standard deviations are fairly consistent between the two groups.",
      "metadata": {
        "id": "5OP23eCk_rhd"
      }
    },
    {
      "cell_type": "markdown",
      "source": "### **Task 2d. Null values - device counts**\n\nNext, check the two populations with respect to the `device` variable.\n\n**Question:** How many iPhone users had null values and how many Android users had null values?",
      "metadata": {
        "id": "iEBiYoaT_hAl"
      }
    },
    {
      "cell_type": "code",
      "source": "# Get count of null values by device\nnull_df['device'].value_counts()",
      "metadata": {
        "colab": {
          "base_uri": "https://localhost:8080/"
        },
        "executionInfo": {
          "elapsed": 244,
          "status": "ok",
          "timestamp": 1685049842012,
          "user": {
            "displayName": "Matteo Riotto",
            "userId": "15211004813978485634"
          },
          "user_tz": 420
        },
        "id": "RLqQAcca8bmj",
        "outputId": "21b9c142-da1c-47c3-d359-7a81f2778bc8"
      },
      "outputs": [],
      "execution_count": null
    },
    {
      "cell_type": "markdown",
      "source": "Of the 700 rows with null values, 447 were iPhone users and 253 were Android users.",
      "metadata": {
        "id": "SQy7Ba2D_DoK"
      }
    },
    {
      "cell_type": "markdown",
      "source": "Now, of the rows with null values, calculate the percentage with each device&mdash;Android and iPhone. You can do this directly with the [`value_counts()`](https://pandas.pydata.org/docs/reference/api/pandas.Series.value_counts.html) function.",
      "metadata": {
        "id": "E_RroYY4xuEX"
      }
    },
    {
      "cell_type": "code",
      "source": "# Calculate % of iPhone nulls and Android nulls\nnull_df['device'].value_counts(normalize=True)",
      "metadata": {
        "colab": {
          "base_uri": "https://localhost:8080/"
        },
        "executionInfo": {
          "elapsed": 234,
          "status": "ok",
          "timestamp": 1685049856432,
          "user": {
            "displayName": "Matteo Riotto",
            "userId": "15211004813978485634"
          },
          "user_tz": 420
        },
        "id": "Ds15QfX2BmGA",
        "outputId": "52a42dc9-bfd9-4a87-e649-4ce4df95cedc"
      },
      "outputs": [],
      "execution_count": null
    },
    {
      "cell_type": "markdown",
      "source": "How does this compare to the device ratio in the full dataset?",
      "metadata": {
        "id": "2SmKJ3alBPLO"
      }
    },
    {
      "cell_type": "code",
      "source": "# Calculate % of iPhone users and Android users in full dataset\ndf['device'].value_counts(normalize=True)",
      "metadata": {
        "colab": {
          "base_uri": "https://localhost:8080/"
        },
        "executionInfo": {
          "elapsed": 221,
          "status": "ok",
          "timestamp": 1685049882698,
          "user": {
            "displayName": "Matteo Riotto",
            "userId": "15211004813978485634"
          },
          "user_tz": 420
        },
        "id": "NWA4m1tA8bfD",
        "outputId": "8fbd544f-0602-4894-8f92-df188f4c4bd6"
      },
      "outputs": [],
      "execution_count": null
    },
    {
      "cell_type": "markdown",
      "source": "The percentage of missing values by each device is consistent with their representation in the data overall.\n\nThere is nothing to suggest a non-random cause of the missing data.",
      "metadata": {
        "id": "cZck5MWiCK_5"
      }
    },
    {
      "cell_type": "markdown",
      "source": "Examine the counts and percentages of users who churned vs. those who were retained. How many of each group are represented in the data?",
      "metadata": {
        "id": "masKizFlDJnd"
      }
    },
    {
      "cell_type": "code",
      "source": "# Calculate counts of churned vs. retained\nprint(df['label'].value_counts())\nprint()\nprint(df['label'].value_counts(normalize=True))",
      "metadata": {
        "colab": {
          "base_uri": "https://localhost:8080/"
        },
        "executionInfo": {
          "elapsed": 3,
          "status": "ok",
          "timestamp": 1685040521581,
          "user": {
            "displayName": "Matteo Riotto",
            "userId": "15211004813978485634"
          },
          "user_tz": 420
        },
        "id": "PEtpT8d1OWsD",
        "outputId": "30b9187a-0172-47e8-cc47-20e6c20bacd5"
      },
      "outputs": [],
      "execution_count": null
    },
    {
      "cell_type": "markdown",
      "source": "This dataset contains 82% retained users and 18% churned users.\n\nNext, compare the medians of each variable for churned and retained users. The reason for calculating the median and not the mean is that you don't want outliers to unduly affect the portrayal of a typical user. Notice, for example, that the maximum value in the `driven_km_drives` column is 21,183 km. That's more than half the circumference of the earth!",
      "metadata": {
        "id": "q_4dSuA3PSZ-"
      }
    },
    {
      "cell_type": "code",
      "source": "# Calculate median values of all columns for churned and retained users\ndf.groupby('label').median(numeric_only=True)",
      "metadata": {
        "colab": {
          "base_uri": "https://localhost:8080/",
          "height": 207
        },
        "executionInfo": {
          "elapsed": 232,
          "status": "ok",
          "timestamp": 1685045381538,
          "user": {
            "displayName": "Matteo Riotto",
            "userId": "15211004813978485634"
          },
          "user_tz": 420
        },
        "id": "0l-Aa2wsDR0x",
        "outputId": "8ef10512-7f83-4eaa-9ea6-9069c8cf3984"
      },
      "outputs": [],
      "execution_count": null
    },
    {
      "cell_type": "markdown",
      "source": "This offers an interesting snapshot of the two groups, churned vs. retained:\n\nUsers who churned averaged ~3 more drives in the last month than retained users, but retained users used the app on over twice as many days as churned users in the same time period.\n\nThe median churned user drove ~200 more kilometers and 2.5 more hours during the last month than the median retained user.\n\nIt seems that churned users had more drives in fewer days, and their trips were farther and longer in duration. Perhaps this is suggestive of a user profile.",
      "metadata": {
        "id": "hbM5PjYQDrwv"
      }
    },
    {
      "cell_type": "markdown",
      "source": "Calculate the median kilometers per drive in the last month for both retained and churned users.\n\nBegin by dividing the `driven_km_drives` column by the `drives` column. Then, group the results by churned/retained and calculate the median km/drive of each group.",
      "metadata": {}
    },
    {
      "cell_type": "code",
      "source": "# Add a column to df called `km_per_drive`\ndf['km_per_drive'] = df['driven_km_drives'] / df['drives']\n\n# Group by `label`, calculate the median, and isolate for km per drive\nmedian_km_per_drive = df.groupby('label').median(numeric_only=True)[['km_per_drive']]\nmedian_km_per_drive",
      "metadata": {},
      "outputs": [],
      "execution_count": null
    },
    {
      "cell_type": "markdown",
      "source": "The median retained user drove about one more kilometer per drive than the median churned user. How many kilometers per driving day was this?\n\nTo calculate this statistic, repeat the steps above using `driving_days` instead of `drives`.",
      "metadata": {}
    },
    {
      "cell_type": "code",
      "source": "# Add a column to df called `km_per_driving_day`\ndf['km_per_driving_day'] = df['driven_km_drives'] / df['driving_days']\n\n# Group by `label`, calculate the median, and isolate for km per driving day\nmedian_km_per_driving_day = df.groupby('label').median(numeric_only=True)[['km_per_driving_day']]\nmedian_km_per_driving_day",
      "metadata": {},
      "outputs": [],
      "execution_count": null
    },
    {
      "cell_type": "markdown",
      "source": "Now calculate the median number of drives per driving day for each group.",
      "metadata": {}
    },
    {
      "cell_type": "code",
      "source": "# Add a column to df called `drives_per_driving_day`\ndf['drives_per_driving_day'] = df['drives'] / df['driving_days']\n\n# Group by `label`, calculate the median, and isolate for drives per driving day\nmedian_drives_per_driving_day = df.groupby('label').median(numeric_only=True)[['drives_per_driving_day']]\nmedian_drives_per_driving_day",
      "metadata": {},
      "outputs": [],
      "execution_count": null
    },
    {
      "cell_type": "markdown",
      "source": "The median user who churned drove 698 kilometers each day they drove last month, which is ~240% the per-drive-day distance of retained users. The median churned user had a similarly disproporionate number of drives per drive day compared to retained users.\n\nIt is clear from these figures that, regardless of whether a user churned or not, the users represented in this data are serious drivers! It would probably be safe to assume that this data does not represent typical drivers at large. Perhaps the data&mdash;and in particular the sample of churned users&mdash;contains a high proportion of long-haul truckers.\n\nIn consideration of how much these users drive, it would be worthwhile to recommend to Waze that they gather more data on these super-drivers. It's possible that the reason for their driving so much is also the reason why the Waze app does not meet their specific set of needs, which may differ from the needs of a more typical driver, such as a commuter.",
      "metadata": {
        "id": "RNael5HDnCxf"
      }
    },
    {
      "cell_type": "markdown",
      "source": "Finally, examine whether there is an imbalance in how many users churned by device type.\n\nBegin by getting the overall counts of each device type for each group, churned and retained.",
      "metadata": {
        "id": "ajdCO-jXuggf"
      }
    },
    {
      "cell_type": "code",
      "source": "# For each label, calculate the number of Android users and iPhone users\ndf.groupby(['label', 'device']).size()",
      "metadata": {
        "colab": {
          "base_uri": "https://localhost:8080/"
        },
        "executionInfo": {
          "elapsed": 235,
          "status": "ok",
          "timestamp": 1685048379053,
          "user": {
            "displayName": "Matteo Riotto",
            "userId": "15211004813978485634"
          },
          "user_tz": 420
        },
        "id": "wR-YTlbTDH5Y",
        "outputId": "54c106a2-2f2a-4a79-9c8a-4f6cdf627c74"
      },
      "outputs": [],
      "execution_count": null
    },
    {
      "cell_type": "markdown",
      "source": "Now, within each group, churned and retained, calculate what percent was Android and what percent was iPhone.",
      "metadata": {
        "id": "xyMqLrlG1H1W"
      }
    },
    {
      "cell_type": "code",
      "source": "# For each label, calculate the percentage of Android users and iPhone users\ndf.groupby('label')['device'].value_counts(normalize=True)",
      "metadata": {
        "colab": {
          "base_uri": "https://localhost:8080/"
        },
        "executionInfo": {
          "elapsed": 240,
          "status": "ok",
          "timestamp": 1685048606065,
          "user": {
            "displayName": "Matteo Riotto",
            "userId": "15211004813978485634"
          },
          "user_tz": 420
        },
        "id": "G9PIt4WJDH3F",
        "outputId": "c9cf475d-432d-401f-9bc5-c543b2258db9"
      },
      "outputs": [],
      "execution_count": null
    },
    {
      "cell_type": "markdown",
      "source": "The ratio of iPhone users and Android users is consistent between the churned group and the retained group, and those ratios are both consistent with the ratio found in the overall dataset.",
      "metadata": {
        "id": "q6wLAiC120hs"
      }
    },
    {
      "cell_type": "markdown",
      "source": "### **Task 3. Conclusion**\n\nRecall that your supervisor, May Santer, asked you to share your findings with the data team in an executive summary. Consider the following questions as you prepare to write your summary. Think about key points you may want to share with the team, and what information is most relevant to the user churn project.\n\n**Questions:**\n\n1. Did the data contain any missing values? How many, and which variables were affected? Was there a pattern to the missing data?\n\n> *The dataset has 700 missing values in the `label` column. There was no obvious pattern to the missing values.*\n\n2. What is a benefit of using the median value of a sample instead of the mean?\n\n> *Mean is subject to the influence of outliers, while the median represents the middle value of the distribution regardless of any outlying values.*\n\n3. Did your investigation give rise to further questions that you would like to explore or ask the Waze team about?\n\n> *Yes. For example, the median user who churned drove 698 kilometers each day they drove last month, which is about 240% the per-drive-day distance of retained users. It would be helpful to know how this data was collected and if it represents a non-random sample of users.*\n\n4. What percentage of the users in the dataset were Android users and what percentage were iPhone users?\n\n> *Android users comprised approximately 36% of the sample, while iPhone users made up about 64%*\n\n5. What were some distinguishing characteristics of users who churned vs. users who were retained?\n\n> *Generally, users who churned drove farther and longer in fewer days than retained users. They also used the app about half as many times as retained users over the same period.*\n\n6. Was there an appreciable difference in churn rate between iPhone users vs. Android users?\n\n> *No. The churn rate for both iPhone and Android users was within one percentage point of each other. There is nothing suggestive of churn being correlated with device.*",
      "metadata": {
        "id": "CCR1rF1h71LE"
      }
    }
  ]
}